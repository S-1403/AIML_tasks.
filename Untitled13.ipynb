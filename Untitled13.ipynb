{
  "nbformat": 4,
  "nbformat_minor": 0,
  "metadata": {
    "colab": {
      "provenance": []
    },
    "kernelspec": {
      "name": "python3",
      "display_name": "Python 3"
    },
    "language_info": {
      "name": "python"
    }
  },
  "cells": [
    {
      "cell_type": "code",
      "execution_count": 2,
      "metadata": {
        "colab": {
          "base_uri": "https://localhost:8080/"
        },
        "id": "ANJAlvzntVRN",
        "outputId": "c5a7697e-9e4d-4c6c-dfea-bf93a33fc858"
      },
      "outputs": [
        {
          "output_type": "stream",
          "name": "stdout",
          "text": [
            "--- Basic AI Activity Recommender ---\n",
            "What is the weather like today? (e.g., sunny, rainy, cold): cold\n",
            "The recommendations are : Make some hot chocolate and maybe build a snowman!\n"
          ]
        }
      ],
      "source": [
        "# Day 1 Hands-on: Basic Decision-Making Program (AI-related Python script)\n",
        "\n",
        "def recommend_activity():\n",
        "    \"\"\"\n",
        "    A simple function that recommends an activity based on weather input.\n",
        "    This is a basic example of an \"if-elif-else\" decision-making structure.\n",
        "    \"\"\"\n",
        "    print(\"--- Basic AI Activity Recommender ---\")\n",
        "\n",
        "    # Get input from the user and convert to lowercase for easier checking\n",
        "    weather = input(\"What is the weather like today? (e.g., sunny, rainy, cold): \").strip().lower()\n",
        "\n",
        "    if \"sunny\" in weather or \"warm\" in weather:\n",
        "        # Decision 1\n",
        "        print(\"The recommendations are : Go for a hike or have a picnic in the park!\")\n",
        "    elif \"rainy\" in weather or \"stormy\" in weather:\n",
        "        # Decision 2\n",
        "        print(\"The recommendations are : Stay inside and read a book or watch a movie.\")\n",
        "    elif \"cold\" in weather or \"snow\" in weather:\n",
        "        # Decision 3\n",
        "        print(\"The recommendations are : Make some hot chocolate and maybe build a snowman!\")\n",
        "    else:\n",
        "        # Default/Fallback decision\n",
        "        print(\"The recommendations are : That's interesting weather! How about exploring a new indoor hobby?\")\n",
        "\n",
        "if __name__ == \"__main__\":\n",
        "    recommend_activity()"
      ]
    },
    {
      "cell_type": "code",
      "source": [
        "#2\n",
        "import pandas as pd\n",
        "import numpy as np\n",
        "import matplotlib.pyplot as plt\n",
        "from sklearn.datasets import load_iris\n",
        "# Note: Using scikit-learn's built-in Iris dataset for simplicity\n",
        "\n",
        "# 1. Load and analyze a dataset\n",
        "print(\"--- Day 2: Data Loading and Analysis ---\")\n",
        "iris = load_iris()\n",
        "df = pd.DataFrame(data=iris.data, columns=iris.feature_names)\n",
        "df['target'] = iris.target\n",
        "\n",
        "# Display the first few rows\n",
        "print(\"\\nFirst 5 rows of the Iris Dataset:\")\n",
        "print(df.head())\n",
        "\n",
        "# Perform a quick summary (Exploratory Data Analysis - EDA)\n",
        "print(\"\\nDataset Information (EDA):\")\n",
        "print(df.info())\n",
        "print(\"\\nDescriptive Statistics:\")\n",
        "print(df.describe())\n",
        "\n",
        "# 2. Perform simple visualizations with Matplotlib\n",
        "print(\"\\n--- Day 2: Simple Visualization (Matplotlib) ---\")\n",
        "# Example: Histogram of a feature\n",
        "plt.figure(figsize=(8, 6))\n",
        "plt.hist(df['sepal length (cm)'], bins=10, edgecolor='black')\n",
        "plt.title('Distribution of Sepal Length')\n",
        "plt.xlabel('Sepal Length (cm)')\n",
        "plt.ylabel('Frequency')\n",
        "plt.grid(axis='y', alpha=0.5)\n",
        "# plt.show() # Uncomment to display the plot in a live environment\n",
        "print(\"Generated a histogram plot of 'sepal length (cm)'.\")"
      ],
      "metadata": {
        "colab": {
          "base_uri": "https://localhost:8080/",
          "height": 1000
        },
        "id": "CMvT1D6StyS1",
        "outputId": "5378ee11-a570-4114-bf8e-41eed034299d"
      },
      "execution_count": 3,
      "outputs": [
        {
          "output_type": "stream",
          "name": "stdout",
          "text": [
            "--- Day 2: Data Loading and Analysis ---\n",
            "\n",
            "First 5 rows of the Iris Dataset:\n",
            "   sepal length (cm)  sepal width (cm)  petal length (cm)  petal width (cm)  \\\n",
            "0                5.1               3.5                1.4               0.2   \n",
            "1                4.9               3.0                1.4               0.2   \n",
            "2                4.7               3.2                1.3               0.2   \n",
            "3                4.6               3.1                1.5               0.2   \n",
            "4                5.0               3.6                1.4               0.2   \n",
            "\n",
            "   target  \n",
            "0       0  \n",
            "1       0  \n",
            "2       0  \n",
            "3       0  \n",
            "4       0  \n",
            "\n",
            "Dataset Information (EDA):\n",
            "<class 'pandas.core.frame.DataFrame'>\n",
            "RangeIndex: 150 entries, 0 to 149\n",
            "Data columns (total 5 columns):\n",
            " #   Column             Non-Null Count  Dtype  \n",
            "---  ------             --------------  -----  \n",
            " 0   sepal length (cm)  150 non-null    float64\n",
            " 1   sepal width (cm)   150 non-null    float64\n",
            " 2   petal length (cm)  150 non-null    float64\n",
            " 3   petal width (cm)   150 non-null    float64\n",
            " 4   target             150 non-null    int64  \n",
            "dtypes: float64(4), int64(1)\n",
            "memory usage: 6.0 KB\n",
            "None\n",
            "\n",
            "Descriptive Statistics:\n",
            "       sepal length (cm)  sepal width (cm)  petal length (cm)  \\\n",
            "count         150.000000        150.000000         150.000000   \n",
            "mean            5.843333          3.057333           3.758000   \n",
            "std             0.828066          0.435866           1.765298   \n",
            "min             4.300000          2.000000           1.000000   \n",
            "25%             5.100000          2.800000           1.600000   \n",
            "50%             5.800000          3.000000           4.350000   \n",
            "75%             6.400000          3.300000           5.100000   \n",
            "max             7.900000          4.400000           6.900000   \n",
            "\n",
            "       petal width (cm)      target  \n",
            "count        150.000000  150.000000  \n",
            "mean           1.199333    1.000000  \n",
            "std            0.762238    0.819232  \n",
            "min            0.100000    0.000000  \n",
            "25%            0.300000    0.000000  \n",
            "50%            1.300000    1.000000  \n",
            "75%            1.800000    2.000000  \n",
            "max            2.500000    2.000000  \n",
            "\n",
            "--- Day 2: Simple Visualization (Matplotlib) ---\n",
            "Generated a histogram plot of 'sepal length (cm)'.\n"
          ]
        },
        {
          "output_type": "display_data",
          "data": {
            "text/plain": [
              "<Figure size 800x600 with 1 Axes>"
            ],
            "image/png": "[encoded data removed]"
          },
          "metadata": {}
        }
      ]
    },
    {
      "cell_type": "code",
      "source": [
        "#3\n",
        "from sklearn.model_selection import train_test_split\n",
        "from sklearn.neighbors import KNeighborsClassifier # Classification (KNN) [cite: 32]\n",
        "from sklearn.metrics import accuracy_score, precision_score, recall_score # Evaluation metrics [cite: 34]\n",
        "from sklearn.datasets import load_iris\n",
        "import numpy as np\n",
        "\n",
        "print(\"\\n--- Day 3: Classification Model (KNN on Iris) ---\")\n",
        "\n",
        "# Load data (reusing Iris from Day 2 concept)\n",
        "iris = load_iris()\n",
        "X, y = iris.data, iris.target\n",
        "\n",
        "# Train-test split [cite: 34]\n",
        "X_train, X_test, y_train, y_test = train_test_split(X, y, test_size=0.3, random_state=42)\n",
        "\n",
        "# Initialize and Train a Classification model (KNN)\n",
        "model = KNeighborsClassifier(n_neighbors=3)\n",
        "model.fit(X_train, y_train)\n",
        "\n",
        "# Make predictions\n",
        "y_pred = model.predict(X_test)\n",
        "\n",
        "# Evaluate the model using evaluation metrics [cite: 34]\n",
        "accuracy = accuracy_score(y_test, y_pred)\n",
        "precision = precision_score(y_test, y_pred, average='weighted', zero_division=0)\n",
        "recall = recall_score(y_test, y_pred, average='weighted', zero_division=0)\n",
        "\n",
        "print(f\"Model: K-Nearest Neighbors (KNN)\")\n",
        "print(f\"Accuracy on test set: {accuracy:.4f} [cite: 34]\")\n",
        "print(f\"Precision: {precision:.4f} [cite: 34]\")\n",
        "print(f\"Recall: {recall:.4f} [cite: 34]\")\n",
        "\n",
        "# (For the other task: Linear Regression would use LinearRegression from sklearn.linear_model)"
      ],
      "metadata": {
        "colab": {
          "base_uri": "https://localhost:8080/"
        },
        "id": "UcNOgAEUt5c5",
        "outputId": "73a194e8-cf5f-4563-9d93-0788395e8d46"
      },
      "execution_count": 4,
      "outputs": [
        {
          "output_type": "stream",
          "name": "stdout",
          "text": [
            "\n",
            "--- Day 3: Classification Model (KNN on Iris) ---\n",
            "Model: K-Nearest Neighbors (KNN)\n",
            "Accuracy on test set: 1.0000 [cite: 34]\n",
            "Precision: 1.0000 [cite: 34]\n",
            "Recall: 1.0000 [cite: 34]\n"
          ]
        }
      ]
    },
    {
      "cell_type": "code",
      "source": [
        "#4\n",
        "import tensorflow as tf\n",
        "from tensorflow.keras.datasets import mnist\n",
        "from tensorflow.keras.models import Sequential\n",
        "from tensorflow.keras.layers import Dense, Flatten\n",
        "\n",
        "print(\"\\n--- Day 4: Simple Neural Network (Keras on MNIST) ---\")\n",
        "\n",
        "# 1. Load and preprocess the MNIST dataset\n",
        "(x_train, y_train), (x_test, y_test) = mnist.load_data()\n",
        "\n",
        "# Normalize the data and reshape\n",
        "x_train = x_train.astype('float32') / 255.0\n",
        "x_test = x_test.astype('float32') / 255.0\n",
        "\n",
        "# 2. Build the sequential model\n",
        "model = Sequential([\n",
        "    Flatten(input_shape=(28, 28)), # Flattens the 28x28 image into a 784-element vector\n",
        "    Dense(128, activation='relu'), # Hidden layer with ReLU activation [cite: 41]\n",
        "    Dense(10, activation='softmax') # Output layer for 10 classes (digits 0-9)\n",
        "])\n",
        "\n",
        "# 3. Compile the model (setup loss, optimizer)\n",
        "model.compile(optimizer='adam',\n",
        "              loss='sparse_categorical_crossentropy',\n",
        "              metrics=['accuracy'])\n",
        "\n",
        "# 4. Train the model (briefly for demonstration)\n",
        "print(\"Training the simple neural network (this may take a moment)...\")\n",
        "model.fit(x_train, y_train, epochs=5, batch_size=32, verbose=0) # 5 epochs\n",
        "\n",
        "# 5. Evaluate the model\n",
        "loss, accuracy = model.evaluate(x_test, y_test, verbose=0)\n",
        "print(f\"Neural Network Accuracy on test set: {accuracy:.4f}\")"
      ],
      "metadata": {
        "colab": {
          "base_uri": "https://localhost:8080/"
        },
        "id": "0TEyYbZwuBfx",
        "outputId": "cd9a8b11-3911-4087-b3b4-20a4f620e1c3"
      },
      "execution_count": 5,
      "outputs": [
        {
          "output_type": "stream",
          "name": "stdout",
          "text": [
            "\n",
            "--- Day 4: Simple Neural Network (Keras on MNIST) ---\n",
            "Downloading data from https://storage.googleapis.com/tensorflow/tf-keras-datasets/mnist.npz\n",
            "\u001b[1m11490434/11490434\u001b[0m \u001b[32m━━━━━━━━━━━━━━━━━━━━\u001b[0m\u001b[37m\u001b[0m \u001b[1m0s\u001b[0m 0us/step\n"
          ]
        },
        {
          "output_type": "stream",
          "name": "stderr",
          "text": [
            "/usr/local/lib/python3.12/dist-packages/keras/src/layers/reshaping/flatten.py:37: UserWarning: Do not pass an `input_shape`/`input_dim` argument to a layer. When using Sequential models, prefer using an `Input(shape)` object as the first layer in the model instead.\n",
            "  super().__init__(**kwargs)\n"
          ]
        },
        {
          "output_type": "stream",
          "name": "stdout",
          "text": [
            "Training the simple neural network (this may take a moment)...\n",
            "Neural Network Accuracy on test set: 0.9758\n"
          ]
        }
      ]
    },
    {
      "cell_type": "code",
      "source": [
        "#5\n",
        "# Note: For real-world use, this requires a dataset (e.g., IMDB reviews)\n",
        "from sklearn.feature_extraction.text import TfidfVectorizer\n",
        "from sklearn.linear_model import LogisticRegression # Simple classification model\n",
        "from sklearn.pipeline import make_pipeline\n",
        "import pandas as pd\n",
        "import numpy as np\n",
        "\n",
        "print(\"\\n--- Day 5: Sentiment Analysis (NLP using Scikit-learn) ---\")\n",
        "\n",
        "# Example Mock Data (In a real scenario, this would be loaded from a CSV/file)\n",
        "data = {\n",
        "    'review': [\n",
        "        \"This movie was absolutely fantastic! A must-see.\",\n",
        "        \"The plot was confusing and the acting was terrible.\",\n",
        "        \"Decent effort, but nothing groundbreaking.\",\n",
        "        \"Best film of the year, highly recommended.\",\n",
        "        \"Couldn't finish watching, what a waste of time.\"\n",
        "    ],\n",
        "    'sentiment': [1, 0, 0, 1, 0] # 1: Positive, 0: Negative\n",
        "}\n",
        "df_reviews = pd.DataFrame(data)\n",
        "\n",
        "# Split data (simple split for this small example)\n",
        "X = df_reviews['review']\n",
        "y = df_reviews['sentiment']\n",
        "X_train, X_test, y_train, y_test = X[:4], X[4:], y[:4], y[4:]\n",
        "\n",
        "# 1. Build an NLP Pipeline: TF-IDF Vectorizer + Logistic Regression Classifier\n",
        "# This handles the tokenization and feature extraction (NLP) [cite: 50]\n",
        "model_pipeline = make_pipeline(\n",
        "    TfidfVectorizer(),\n",
        "    LogisticRegression(solver='liblinear')\n",
        ")\n",
        "\n",
        "# 2. Train the model\n",
        "model_pipeline.fit(X_train, y_train)\n",
        "\n",
        "# 3. Test on a new, unseen review\n",
        "new_reviews = [\"I loved the cinematography, but the sound was poor.\"]\n",
        "prediction = model_pipeline.predict(new_reviews)\n",
        "sentiment_label = \"Positive\" if prediction[0] == 1 else \"Negative\"\n",
        "\n",
        "print(f\"Review: '{new_reviews[0]}'\")\n",
        "print(f\"Predicted Sentiment: {sentiment_label} \")"
      ],
      "metadata": {
        "colab": {
          "base_uri": "https://localhost:8080/"
        },
        "id": "nJq6AIs-uRJX",
        "outputId": "3c5bcced-d3a0-41d7-9be0-57c280b75684"
      },
      "execution_count": 6,
      "outputs": [
        {
          "output_type": "stream",
          "name": "stdout",
          "text": [
            "\n",
            "--- Day 5: Sentiment Analysis (NLP using Scikit-learn) ---\n",
            "Review: 'I loved the cinematography, but the sound was poor.'\n",
            "Predicted Sentiment: Negative \n"
          ]
        }
      ]
    },
    {
      "cell_type": "code",
      "source": [],
      "metadata": {
        "id": "q31KCdh6ubc2"
      },
      "execution_count": null,
      "outputs": []
    }
  ]
}